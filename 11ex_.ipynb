{
 "cells": [
  {
   "attachments": {},
   "cell_type": "markdown",
   "metadata": {},
   "source": [
    "1"
   ]
  },
  {
   "cell_type": "code",
   "execution_count": null,
   "metadata": {},
   "outputs": [],
   "source": [
    "import numpy as np\n",
    "import matplotlib.pyplot as plt\n",
    "\n",
    "tau = 3052 * 60  \n",
    "num_atomi = 1000  \n",
    "\n",
    "tl_atomi = [num_atomi]\n",
    "pb_atomi = [0]\n",
    "\n",
    "def p(t, tau):\n",
    "    return 1 - 2**(-t/tau)\n",
    "\n",
    "N_steps = 2000\n",
    "\n",
    "\n",
    "for t in range(1, N_steps):\n",
    "\n",
    "    atomi = np.random.random(tl_atomi[-1])\n",
    "    \n",
    "    decayed = np.sum(atomi < p(t, tau)) \n",
    "    \n",
    "    \n",
    "    tl_atomi.append(tl_atomi[-1] - decayed)\n",
    "    pb_atomi.append(pb_atomi[-1] + decayed)\n",
    "    \n",
    "plt.plot(tl_atomi, label = \"Atomi Tl\")\n",
    "plt.plot(pb_atomi, label = \"Atomi Pb\")\n",
    "plt.legend()\n",
    "plt.show()\n",
    "\n",
    "\n",
    "def inverse_p2(x):\n",
    "    return -tau*np.log2(1 - x)\n",
    "\n",
    "un = np.random.random(N_steps)\n",
    "x = inverse_p2(un)\n",
    "\n",
    "\n",
    "plt.hist(x, histtype = 'step', label=\"Probabilità inversa\")\n",
    "plt.plot(np.sort(x), (1 - (np.sort(un)))*1000, label = \"Atomi Tl\")\n",
    "plt.legend()\n",
    "plt.show()\n"
   ]
  },
  {
   "attachments": {},
   "cell_type": "markdown",
   "metadata": {},
   "source": [
    "2"
   ]
  },
  {
   "cell_type": "code",
   "execution_count": null,
   "metadata": {},
   "outputs": [],
   "source": [
    "import numpy as np\n",
    "import matplotlib.pyplot as plt\n",
    "\n",
    "def f(x):\n",
    "    return np.sin(1/(1-x))**2\n",
    "\n",
    "N = 10000\n",
    "\n",
    "x = np.linspace(0, 2, N)\n",
    "y = f(x)\n",
    "plt.plot(x, y)\n",
    "plt.show()\n",
    "\n",
    "\n",
    "\n",
    "integrali = []\n",
    "step = 100\n",
    "\n",
    "for a in range(step):\n",
    "    count = 0\n",
    "    for i in range(N):\n",
    "        x = 2 * np.random.random() \n",
    "        y = np.random.random()     \n",
    "        if y < f(x): count += 1\n",
    "    I = 2 * count / N\n",
    "    integrali.append(I)\n",
    "\n",
    "media = np.mean(integrali) \n",
    "dev = np.std(integrali)/np.sqrt(step) \n",
    "\n",
    "print(f\"Mean of integral of f(x) with hit and miss method: {media}\")\n",
    "print(f\"Standard Deviation of integral of f(x) with hit and miss method: {dev}\")\n",
    "\n",
    "\n",
    "\n",
    "x_casuali = np.random.uniform(0, 2, N)\n",
    "y_casuale = f(x_casuali)\n",
    "media_2 = 2*np.mean(f(x_casuali)) \n",
    "dev_2 = np.std(y_casuale)/np.sqrt(N) \n",
    "print(f\"\\nMean of integral of f(x) with mean value method: {media_2}\")\n",
    "\n",
    "x = np.linspace(0, 2, N)\n",
    "Integral_ref = np.trapz(f(x) ,x)\n",
    "\n",
    "err_hitmiss = np.abs(Integral_ref-media)\n",
    "err_meanval = np.abs(Integral_ref-media_2)\n",
    "\n",
    "print(f\"\\nIntegral reference value calculated with trapz: {Integral_ref}\")\n",
    "print(f\"Error with hit and miss method: {err_hitmiss}\")\n",
    "print(f\"Error with mean value method: {err_meanval}\")\n",
    "\n",
    "if(err_meanval > err_hitmiss):\n",
    "    print(\"\\nThe hit-miss method is more accurate\")\n",
    "else: \n",
    "    print(\"\\nThe mean value method is more accurate\")"
   ]
  },
  {
   "attachments": {},
   "cell_type": "markdown",
   "metadata": {},
   "source": [
    "3"
   ]
  },
  {
   "cell_type": "code",
   "execution_count": null,
   "metadata": {},
   "outputs": [],
   "source": [
    "import numpy as np\n",
    "\n",
    "N = 100000\n",
    "\n",
    "\n",
    "x = np.random.uniform(-1, 1, N)\n",
    "y = np.random.uniform(-1, 1, N)\n",
    "\n",
    "count = 0\n",
    "for i in range(N):\n",
    "    if x[i]**2 + y[i]**2 <= 1:\n",
    "        count += 1\n",
    "\n",
    "area = 4*count/N\n",
    "print(\"L'area del cerchio di raggio 1 è:\", area)\n",
    "\n",
    "\n",
    "D = 10\n",
    "\n",
    "x_D = np.random.uniform(-1, 1, (N, D))\n",
    "\n",
    "count_D = 0\n",
    "for i in range(N):\n",
    "    s = 0\n",
    "    for j in range(D):\n",
    "        s += x_D[i, j]**2\n",
    "    if s <= 1:\n",
    "        count_D += 1\n",
    "\n",
    "area_D = (2**D*count_D)/N\n",
    "\n",
    "print(f\"L'area della sfera di dimensione {D}D è: {area_D}\")"
   ]
  },
  {
   "attachments": {},
   "cell_type": "markdown",
   "metadata": {},
   "source": [
    "4"
   ]
  },
  {
   "cell_type": "code",
   "execution_count": null,
   "metadata": {},
   "outputs": [],
   "source": [
    "def f(x):\n",
    "    return (x**(-1/2))/(np.exp(x)+1)\n",
    "\n",
    "def w(x):\n",
    "    return 1/np.sqrt(x)\n",
    "\n",
    "N = 100000\n",
    "\n",
    "w_integral = np.sum(w(x0))/N\n",
    "\n",
    "x_1 = np.random.uniform(0, 1, N)**2\n",
    "I_res = (np.sum(f(x_1)/w(x_1))*w_integral)/N\n",
    "\n",
    "print(f\"The integral value is {I_res}\")"
   ]
  }
 ],
 "metadata": {
  "kernelspec": {
   "display_name": "Python 3",
   "language": "python",
   "name": "python3"
  },
  "language_info": {
   "name": "python",
   "version": "3.10.9 (tags/v3.10.9:1dd9be6, Dec  6 2022, 20:01:21) [MSC v.1934 64 bit (AMD64)]"
  },
  "orig_nbformat": 4,
  "vscode": {
   "interpreter": {
    "hash": "8f64b0e58576bdb162f44acf8236cdd1cbe70fb0f8e793756a98400fc86a2f40"
   }
  }
 },
 "nbformat": 4,
 "nbformat_minor": 2
}
